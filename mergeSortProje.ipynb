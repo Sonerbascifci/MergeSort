{
 "cells": [
  {
   "cell_type": "code",
   "execution_count": 5,
   "id": "6ecb0e52",
   "metadata": {},
   "outputs": [
    {
     "name": "stdout",
     "output_type": "stream",
     "text": [
      "Verilen dizi\n",
      "16 21 11 8 12 22 \n",
      "\n",
      "Sıralanmış dizimiz\n",
      "16 21 11 8 12 22 "
     ]
    }
   ],
   "source": [
    "def merge(dizi, l, m, r):\n",
    "    n1 = m - l + 1\n",
    "    n2 = r - m\n",
    " \n",
    "    sol = [0] * (n1)\n",
    "    sag = [0] * (n2)\n",
    " \n",
    "    for i in range(0, n1):\n",
    "        sol[i] = dizi[l + i]\n",
    " \n",
    "    for j in range(0, n2):\n",
    "        sag[j] = dizi[m + 1 + j]\n",
    " \n",
    "    i = 0     \n",
    "    j = 0     \n",
    "    k = l     \n",
    " \n",
    "    while i < n1 and j < n2:\n",
    "        if sol[i] <= sag[j]:\n",
    "            dizi[k] = sol[i]\n",
    "            i += 1\n",
    "        else:\n",
    "            dizi[k] = sag[j]\n",
    "            j += 1\n",
    "        k += 1\n",
    " \n",
    "    while i < n1:\n",
    "        dizi[k] = sol[i]\n",
    "        i += 1\n",
    "        k += 1\n",
    " \n",
    "    while j < n2:\n",
    "        dizi[k] = sag[j]\n",
    "        j += 1\n",
    "        k += 1\n",
    " \n",
    " \n",
    " \n",
    "def mergeSort(dizi, l, r):\n",
    "    if l < r:\n",
    " \n",
    "        m = l+(r-l)//2\n",
    " \n",
    "        mergeSort(dizi, l, m)\n",
    "        mergeSort(dizi, m+1, r)\n",
    "        merge(dizi, l, m, r)\n",
    " \n",
    " \n",
    "dizi = [16,21,11,8,12,22]\n",
    "n = len(dizi)\n",
    "print(\"Verilen dizi\")\n",
    "for i in range(n):\n",
    "    print(\"%d\" % dizi[i],end=\" \")\n",
    " \n",
    "mergeSort(dizi, 0, n-1)\n",
    "print(\"\\n\\nSıralanmış dizimiz\")\n",
    "for i in range(n):\n",
    "    print(\"%d\" % dizi[i],end=\" \")\n",
    " "
   ]
  },
  {
   "cell_type": "code",
   "execution_count": null,
   "id": "18cd3017",
   "metadata": {},
   "outputs": [],
   "source": []
  }
 ],
 "metadata": {
  "kernelspec": {
   "display_name": "Python 3",
   "language": "python",
   "name": "python3"
  },
  "language_info": {
   "codemirror_mode": {
    "name": "ipython",
    "version": 3
   },
   "file_extension": ".py",
   "mimetype": "text/x-python",
   "name": "python",
   "nbconvert_exporter": "python",
   "pygments_lexer": "ipython3",
   "version": "3.8.8"
  }
 },
 "nbformat": 4,
 "nbformat_minor": 5
}
